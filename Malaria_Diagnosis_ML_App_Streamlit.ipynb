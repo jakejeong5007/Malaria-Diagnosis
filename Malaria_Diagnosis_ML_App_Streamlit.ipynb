{
  "nbformat": 4,
  "nbformat_minor": 0,
  "metadata": {
    "colab": {
      "name": "Malaria Diagnosis ML App-Streamlit.ipynb",
      "provenance": [],
      "collapsed_sections": [],
      "include_colab_link": true
    },
    "kernelspec": {
      "name": "python3",
      "display_name": "Python 3"
    }
  },
  "cells": [
    {
      "cell_type": "markdown",
      "metadata": {
        "id": "view-in-github",
        "colab_type": "text"
      },
      "source": [
        "<a href=\"https://colab.research.google.com/github/jakejeong5007/Malaria-Diagnosis/blob/main/Malaria_Diagnosis_ML_App_Streamlit.ipynb\" target=\"_parent\"><img src=\"https://colab.research.google.com/assets/colab-badge.svg\" alt=\"Open In Colab\"/></a>"
      ]
    },
    {
      "cell_type": "markdown",
      "metadata": {
        "id": "qg6EWaEmhAVE"
      },
      "source": [
        "# Developing Machine Learning Apps for Healthcare"
      ]
    },
    {
      "cell_type": "code",
      "metadata": {
        "id": "NL7dsgzbihZP",
        "colab": {
          "base_uri": "https://localhost:8080/"
        },
        "outputId": "195e1069-2107-496b-d28a-5af85c2b401f"
      },
      "source": [
        "#@title Run this to prepare our libraries and data! { display-mode: \"form\" } \n",
        "\n",
        "# networking\n",
        "!pip -q install pyngrok\n",
        "\n",
        "from pyngrok import ngrok\n",
        "\n",
        "from __future__ import print_function\n",
        "import json\n",
        "import cv2\n",
        "\n",
        "!pip install patool\n",
        "import patoolib\n",
        "import os\n",
        "import gdown\n",
        "\n",
        "import random\n",
        "\n",
        "import codecs\n",
        "import base64\n",
        "\n",
        "import time\n",
        "from multiprocessing import Pool\n",
        "\n",
        "import glob\n",
        "import numpy as np\n",
        "from tqdm import tqdm\n",
        "from google.colab.patches import cv2_imshow\n",
        "\n",
        "import pandas as pd\n",
        "import matplotlib.pyplot as plt\n",
        "import matplotlib\n",
        "\n",
        "!pip3 install psutil\n",
        "import psutil\n",
        "\n",
        "from sklearn.metrics import accuracy_score\n",
        "from joblib import dump, load\n",
        "\n",
        "!pip -q install streamlit\n",
        "!pip -q install pyngrok\n",
        "\n",
        "from pyngrok import ngrok\n",
        "\n",
        "#ML\n",
        "from sklearn.decomposition import PCA\n",
        "from sklearn.model_selection import train_test_split\n",
        "from sklearn.neighbors import KNeighborsClassifier\n",
        "from sklearn.svm import SVC\n",
        "\n",
        "from sklearn.cluster import KMeans\n",
        "\n",
        "import keras\n",
        "from keras import backend as K\n",
        "from tensorflow.keras.layers import *\n",
        "from keras.models import Sequential\n",
        "from keras.layers import Dense, Conv2D\n",
        "from keras.layers import Activation, MaxPooling2D, Dropout, Flatten, Reshape\n",
        "from keras.wrappers.scikit_learn import KerasClassifier\n",
        "\n",
        "import tensorflow as tf\n",
        "\n",
        "DATA_ROOT = '/content/data'\n",
        "os.makedirs(DATA_ROOT, exist_ok=True)\n",
        "max_samples = 3000\n",
        "\n",
        "blood_slide_url = 'https://drive.google.com/uc?id=1lffxAG8gykh1dh1pCP34uRkH3XMwuNt-'\n",
        "blood_slide_path = os.path.join(DATA_ROOT, 'blood_slide.jpg')\n",
        "gdown.download(blood_slide_url, blood_slide_path, True)\n",
        "\n",
        "malaria_imgs_url = 'https://drive.google.com/uc?id=1s2_zVe0JYKvHR5j8w1LEqRzAx19dUejC'\n",
        "malaria_imgs_path = os.path.join(DATA_ROOT, 'malaria_imgs.zip')\n",
        "gdown.download(malaria_imgs_url, malaria_imgs_path, True)\n",
        "\n",
        "if os.path.exists(os.path.join(DATA_ROOT, 'malaria_images')) == False:\n",
        "  patoolib.extract_archive(os.path.join(DATA_ROOT, 'malaria_imgs.zip'), outdir=DATA_ROOT)\n",
        "\n",
        "print(\"Downloaded Data\")\n",
        "\n",
        "u_malaria_img_paths = glob.glob('/content/data/malaria_images/Uninfected/*png')\n",
        "p_malaria_img_paths = glob.glob('/content/data/malaria_images/Parasitized/*png')\n",
        "\n",
        "NUM_SAMPLES = len(u_malaria_img_paths) + len(p_malaria_img_paths)\n",
        "\n",
        "X_img = []\n",
        "y_img = []\n",
        "\n",
        "X_g_img = []\n",
        "\n",
        "for i in tqdm(range(max_samples)):\n",
        "  img = cv2.imread(u_malaria_img_paths[i])\n",
        "  X_img.append(cv2.resize(img,(50,50)))\n",
        "\n",
        "  gray_img = cv2.imread(u_malaria_img_paths[i],0)\n",
        "  X_g_img.append(cv2.resize(gray_img,(50,50)))\n",
        "\n",
        "  y_img.append(0)\n",
        "\n",
        "for i in tqdm(range(max_samples)):\n",
        "  img = cv2.imread(p_malaria_img_paths[i])\n",
        "  X_img.append(cv2.resize(img,(50,50)))\n",
        "\n",
        "  gray_img = cv2.imread(p_malaria_img_paths[i],0)\n",
        "  X_g_img.append(cv2.resize(gray_img,(50,50)))\n",
        "\n",
        "  y_img.append(1)\n",
        "\n",
        "X_img = np.stack(X_img)\n",
        "X_g_img = np.stack(X_g_img)\n",
        "\n",
        "y_img = np.array(y_img)\n",
        "\n",
        "blood_samples_dir = 'blood_samples'\n",
        "if (os.path.exists(blood_samples_dir) == False):\n",
        "  os.mkdir(blood_samples_dir)\n",
        "\n",
        "for i, img in enumerate(X_img[2995:3005]):\n",
        "  plt.imsave('test_img_{}.jpg'.format(i), img)\n",
        "  \n",
        "print(\"Created our X and y variables\")\n"
      ],
      "execution_count": null,
      "outputs": [
        {
          "output_type": "stream",
          "text": [
            "\u001b[?25l\r\u001b[K     |▍                               | 10 kB 18.5 MB/s eta 0:00:01\r\u001b[K     |▉                               | 20 kB 11.6 MB/s eta 0:00:01\r\u001b[K     |█▎                              | 30 kB 14.7 MB/s eta 0:00:01\r\u001b[K     |█▊                              | 40 kB 17.3 MB/s eta 0:00:01\r\u001b[K     |██▏                             | 51 kB 15.5 MB/s eta 0:00:01\r\u001b[K     |██▋                             | 61 kB 10.1 MB/s eta 0:00:01\r\u001b[K     |███                             | 71 kB 8.5 MB/s eta 0:00:01\r\u001b[K     |███▌                            | 81 kB 9.0 MB/s eta 0:00:01\r\u001b[K     |████                            | 92 kB 9.8 MB/s eta 0:00:01\r\u001b[K     |████▍                           | 102 kB 10.5 MB/s eta 0:00:01\r\u001b[K     |████▉                           | 112 kB 10.5 MB/s eta 0:00:01\r\u001b[K     |█████▎                          | 122 kB 10.5 MB/s eta 0:00:01\r\u001b[K     |█████▊                          | 133 kB 10.5 MB/s eta 0:00:01\r\u001b[K     |██████▏                         | 143 kB 10.5 MB/s eta 0:00:01\r\u001b[K     |██████▋                         | 153 kB 10.5 MB/s eta 0:00:01\r\u001b[K     |███████                         | 163 kB 10.5 MB/s eta 0:00:01\r\u001b[K     |███████▌                        | 174 kB 10.5 MB/s eta 0:00:01\r\u001b[K     |████████                        | 184 kB 10.5 MB/s eta 0:00:01\r\u001b[K     |████████▍                       | 194 kB 10.5 MB/s eta 0:00:01\r\u001b[K     |████████▉                       | 204 kB 10.5 MB/s eta 0:00:01\r\u001b[K     |█████████▎                      | 215 kB 10.5 MB/s eta 0:00:01\r\u001b[K     |█████████▊                      | 225 kB 10.5 MB/s eta 0:00:01\r\u001b[K     |██████████▏                     | 235 kB 10.5 MB/s eta 0:00:01\r\u001b[K     |██████████▌                     | 245 kB 10.5 MB/s eta 0:00:01\r\u001b[K     |███████████                     | 256 kB 10.5 MB/s eta 0:00:01\r\u001b[K     |███████████▍                    | 266 kB 10.5 MB/s eta 0:00:01\r\u001b[K     |███████████▉                    | 276 kB 10.5 MB/s eta 0:00:01\r\u001b[K     |████████████▎                   | 286 kB 10.5 MB/s eta 0:00:01\r\u001b[K     |████████████▊                   | 296 kB 10.5 MB/s eta 0:00:01\r\u001b[K     |█████████████▏                  | 307 kB 10.5 MB/s eta 0:00:01\r\u001b[K     |█████████████▋                  | 317 kB 10.5 MB/s eta 0:00:01\r\u001b[K     |██████████████                  | 327 kB 10.5 MB/s eta 0:00:01\r\u001b[K     |██████████████▌                 | 337 kB 10.5 MB/s eta 0:00:01\r\u001b[K     |███████████████                 | 348 kB 10.5 MB/s eta 0:00:01\r\u001b[K     |███████████████▍                | 358 kB 10.5 MB/s eta 0:00:01\r\u001b[K     |███████████████▉                | 368 kB 10.5 MB/s eta 0:00:01\r\u001b[K     |████████████████▎               | 378 kB 10.5 MB/s eta 0:00:01\r\u001b[K     |████████████████▊               | 389 kB 10.5 MB/s eta 0:00:01\r\u001b[K     |█████████████████▏              | 399 kB 10.5 MB/s eta 0:00:01\r\u001b[K     |█████████████████▋              | 409 kB 10.5 MB/s eta 0:00:01\r\u001b[K     |██████████████████              | 419 kB 10.5 MB/s eta 0:00:01\r\u001b[K     |██████████████████▌             | 430 kB 10.5 MB/s eta 0:00:01\r\u001b[K     |███████████████████             | 440 kB 10.5 MB/s eta 0:00:01\r\u001b[K     |███████████████████▍            | 450 kB 10.5 MB/s eta 0:00:01\r\u001b[K     |███████████████████▉            | 460 kB 10.5 MB/s eta 0:00:01\r\u001b[K     |████████████████████▎           | 471 kB 10.5 MB/s eta 0:00:01\r\u001b[K     |████████████████████▊           | 481 kB 10.5 MB/s eta 0:00:01\r\u001b[K     |█████████████████████           | 491 kB 10.5 MB/s eta 0:00:01\r\u001b[K     |█████████████████████▌          | 501 kB 10.5 MB/s eta 0:00:01\r\u001b[K     |██████████████████████          | 512 kB 10.5 MB/s eta 0:00:01\r\u001b[K     |██████████████████████▍         | 522 kB 10.5 MB/s eta 0:00:01\r\u001b[K     |██████████████████████▉         | 532 kB 10.5 MB/s eta 0:00:01\r\u001b[K     |███████████████████████▎        | 542 kB 10.5 MB/s eta 0:00:01\r\u001b[K     |███████████████████████▊        | 552 kB 10.5 MB/s eta 0:00:01\r\u001b[K     |████████████████████████▏       | 563 kB 10.5 MB/s eta 0:00:01\r\u001b[K     |████████████████████████▋       | 573 kB 10.5 MB/s eta 0:00:01\r\u001b[K     |█████████████████████████       | 583 kB 10.5 MB/s eta 0:00:01\r\u001b[K     |█████████████████████████▌      | 593 kB 10.5 MB/s eta 0:00:01\r\u001b[K     |██████████████████████████      | 604 kB 10.5 MB/s eta 0:00:01\r\u001b[K     |██████████████████████████▍     | 614 kB 10.5 MB/s eta 0:00:01\r\u001b[K     |██████████████████████████▉     | 624 kB 10.5 MB/s eta 0:00:01\r\u001b[K     |███████████████████████████▎    | 634 kB 10.5 MB/s eta 0:00:01\r\u001b[K     |███████████████████████████▊    | 645 kB 10.5 MB/s eta 0:00:01\r\u001b[K     |████████████████████████████▏   | 655 kB 10.5 MB/s eta 0:00:01\r\u001b[K     |████████████████████████████▋   | 665 kB 10.5 MB/s eta 0:00:01\r\u001b[K     |█████████████████████████████   | 675 kB 10.5 MB/s eta 0:00:01\r\u001b[K     |█████████████████████████████▌  | 686 kB 10.5 MB/s eta 0:00:01\r\u001b[K     |██████████████████████████████  | 696 kB 10.5 MB/s eta 0:00:01\r\u001b[K     |██████████████████████████████▍ | 706 kB 10.5 MB/s eta 0:00:01\r\u001b[K     |██████████████████████████████▉ | 716 kB 10.5 MB/s eta 0:00:01\r\u001b[K     |███████████████████████████████▏| 727 kB 10.5 MB/s eta 0:00:01\r\u001b[K     |███████████████████████████████▋| 737 kB 10.5 MB/s eta 0:00:01\r\u001b[K     |████████████████████████████████| 745 kB 10.5 MB/s \n",
            "\u001b[?25h  Building wheel for pyngrok (setup.py) ... \u001b[?25l\u001b[?25hdone\n",
            "Collecting patool\n",
            "  Downloading patool-1.12-py2.py3-none-any.whl (77 kB)\n",
            "\u001b[K     |████████████████████████████████| 77 kB 3.2 MB/s \n",
            "\u001b[?25hInstalling collected packages: patool\n",
            "Successfully installed patool-1.12\n",
            "Requirement already satisfied: psutil in /usr/local/lib/python3.7/dist-packages (5.4.8)\n",
            "\u001b[K     |████████████████████████████████| 8.0 MB 7.6 MB/s \n",
            "\u001b[K     |████████████████████████████████| 170 kB 52.7 MB/s \n",
            "\u001b[K     |████████████████████████████████| 4.2 MB 59.5 MB/s \n",
            "\u001b[K     |████████████████████████████████| 75 kB 2.9 MB/s \n",
            "\u001b[K     |████████████████████████████████| 111 kB 59.0 MB/s \n",
            "\u001b[K     |████████████████████████████████| 63 kB 1.6 MB/s \n",
            "\u001b[K     |████████████████████████████████| 122 kB 39.2 MB/s \n",
            "\u001b[K     |████████████████████████████████| 786 kB 56.4 MB/s \n",
            "\u001b[K     |████████████████████████████████| 368 kB 52.8 MB/s \n",
            "\u001b[?25h  Building wheel for blinker (setup.py) ... \u001b[?25l\u001b[?25hdone\n",
            "\u001b[31mERROR: pip's dependency resolver does not currently take into account all the packages that are installed. This behaviour is the source of the following dependency conflicts.\n",
            "jupyter-console 5.2.0 requires prompt-toolkit<2.0.0,>=1.0.0, but you have prompt-toolkit 3.0.19 which is incompatible.\n",
            "google-colab 1.0.0 requires ipykernel~=4.10, but you have ipykernel 6.0.3 which is incompatible.\n",
            "google-colab 1.0.0 requires ipython~=5.5.0, but you have ipython 7.26.0 which is incompatible.\u001b[0m\n",
            "patool: Extracting /content/data/malaria_imgs.zip ...\n",
            "patool: running /usr/bin/7z x -o/content/data -- /content/data/malaria_imgs.zip\n"
          ],
          "name": "stdout"
        },
        {
          "output_type": "stream",
          "text": [
            "  2%|▏         | 54/3000 [00:00<00:05, 535.56it/s]"
          ],
          "name": "stderr"
        },
        {
          "output_type": "stream",
          "text": [
            "patool: ... /content/data/malaria_imgs.zip extracted to `/content/data'.\n",
            "Downloaded Data\n"
          ],
          "name": "stdout"
        },
        {
          "output_type": "stream",
          "text": [
            "100%|██████████| 3000/3000 [00:03<00:00, 845.18it/s]\n",
            "100%|██████████| 3000/3000 [00:03<00:00, 816.18it/s]\n"
          ],
          "name": "stderr"
        },
        {
          "output_type": "stream",
          "text": [
            "Created our X and y variables\n"
          ],
          "name": "stdout"
        }
      ]
    },
    {
      "cell_type": "markdown",
      "metadata": {
        "id": "SS5UHQLMcHIG"
      },
      "source": [
        "In this notebook, we'll build a machine learning model to diagnose malaria and deploy our model to a mobile-friendly web app. \n",
        "\n",
        "**Discuss: Why is it important to deploy AI models to apps, especially in healthcare? Who could benefit?**\n",
        "\n",
        "One huge benefit is that machine learning apps can quickly and cheaply screen people for diseases! Check out a few examples:\n",
        "*  [Detecting early Parkinson's disease](https://parkinsonsnewstoday.com/2019/01/15/smartphone-app-identifies-early-symptoms-motor-disorders-study/) by analyzing finger-tapping\n",
        "*  [Recognizing asymptomatic COVID-19](https://news.mit.edu/2020/covid-19-cough-cellphone-detection-1029) based on particular cough sounds\n",
        "*  (Developed by a high-schooler!) [Screening for eye disease with computer vision](https://www.youtube.com/watch?v=kLx4ey4d8DQ) in parts of the world where there aren't enough doctors \n",
        "\n",
        "Because billions of people worldwide have smartphones, ML apps have the potential to get huge numbers of people diagnosed and treated!\n",
        "\n",
        "Today, we'll build an app to help fight one of the world's most terrible diseases: malaria, which every year infects over 200 million people and kills more than 200,000 children. Our goal is to help healthcare workers in rural or developing areas diagnose malaria without expensive lab equipment. Our app will let a healthcare worker upload an image of blood cells under a microscope, and then use computer vision to detect the malaria parasite.\n",
        "\n",
        "![](https://cdn1.sph.harvard.edu/wp-content/uploads/sites/21/2018/01/parasite.jpg)\n",
        "\n",
        "**Discuss: What are the parts of the app that we'll need to build?**\n",
        "\n",
        "We'll split our work into three parts:\n",
        "*   Back-end: building a machine learning model to classify an image of blood cells \n",
        "*   Front end: making an easy-to-use, mobile-friendly website that lets users upload an image and outputs the answer\n",
        "*   Connecting the front-end and back-end so the model can analyze the user's image"
      ]
    },
    {
      "cell_type": "markdown",
      "metadata": {
        "id": "azJvdunDdKA-"
      },
      "source": [
        "# Part 1: Malaria Diagnosis"
      ]
    },
    {
      "cell_type": "markdown",
      "metadata": {
        "id": "OgslBWwuZMKK"
      },
      "source": [
        "Let's construct a machine learning model to diagnose malaria!\n",
        "\n",
        "To start off, **take a look at our data**, which is stored in the `X_img` and `y_img` variables. (Hint: use `plt.imshow` if you want to see an image.) Can you spot evidence of malaria?\n",
        "\n"
      ]
    },
    {
      "cell_type": "code",
      "metadata": {
        "id": "YGeNPQT4bXYi",
        "colab": {
          "base_uri": "https://localhost:8080/",
          "height": 284
        },
        "outputId": "fbcbb142-2277-4a1e-d582-a7d5cfccb9e6"
      },
      "source": [
        "# YOUR CODE HERE\n",
        "plt.imshow(X_img[0])\n",
        "print(y_img[0])"
      ],
      "execution_count": null,
      "outputs": [
        {
          "output_type": "stream",
          "text": [
            "0\n"
          ],
          "name": "stdout"
        },
        {
          "output_type": "display_data",
          "data": {
            "image/png": "[encoded data removed]",
            "text/plain": [
              "<Figure size 432x288 with 1 Axes>"
            ]
          },
          "metadata": {
            "tags": [],
            "needs_background": "light"
          }
        }
      ]
    },
    {
      "cell_type": "markdown",
      "metadata": {
        "id": "o3VaSbQScBrj"
      },
      "source": [
        "**Optional:** Let's try to visualize our entire dataset. It's tricky with high-dimensional data, but we can use a mathematical technique called Principal Component Analysis (PCA) to visualize it in 2D. \n",
        "\n",
        "**Discuss: What do you notice here? Does it look like it'll be easy to distinguish positive and negative examples?**"
      ]
    },
    {
      "cell_type": "code",
      "metadata": {
        "id": "3GhMi6wi07G3",
        "colab": {
          "base_uri": "https://localhost:8080/",
          "height": 281
        },
        "outputId": "e830a3d8-bb53-43c7-d911-f86d06cfeeb7"
      },
      "source": [
        "#@title Run this to perform and visualize PCA! { display-mode: \"form\" } \n",
        "pca = PCA(n_components=20)\n",
        "\n",
        "X_img_reshaped = np.reshape(X_g_img,(X_g_img.shape[0],2500))\n",
        "X_img_pca = pca.fit_transform(X_img_reshaped)\n",
        "\n",
        "colors = [\"green\",\"brown\"] # try editing the colors!\n",
        "classes = [0,1]\n",
        "\n",
        "plt.scatter(X_img_pca[:,0], X_img_pca[:,1], c=y_img, cmap=matplotlib.colors.ListedColormap(colors))\n",
        "cb = plt.colorbar()\n",
        "loc = np.arange(0,max(y_img),max(y_img)/float(len(colors)))\n",
        "cb.set_ticks(loc)\n",
        "cb.set_ticklabels(classes)\n",
        "plt.title(\"PCA Representation\")\n",
        "plt.show()"
      ],
      "execution_count": null,
      "outputs": [
        {
          "output_type": "display_data",
          "data": {
            "image/png": "[encoded data removed]",
            "text/plain": [
              "<Figure size 432x288 with 2 Axes>"
            ]
          },
          "metadata": {
            "tags": [],
            "needs_background": "light"
          }
        }
      ]
    },
    {
      "cell_type": "markdown",
      "metadata": {
        "id": "T9_Om7RH0s9k"
      },
      "source": [
        "#Training Our Model\n",
        "\n",
        "Fingers crossed - let's train our ML model! To start simple, we'll use Scikit-learn. Of course, we could also try a CNN for this task in Keras!\n",
        "\n",
        "Please:\n",
        "\n",
        "\n",
        "*   Use `X_img_reshaped`, a flattened array that we can use in Scikit-learn\n",
        "*   Perform a `train_test_split`\n",
        "*   Train an `SVC` model (a Support Vector Machine classifier: this is a common though mathematically tricky algorithm.)\n",
        "*   `score` the model to find our accuracy!\n",
        "\n"
      ]
    },
    {
      "cell_type": "code",
      "metadata": {
        "id": "qaRo2Tj_U0HA",
        "colab": {
          "base_uri": "https://localhost:8080/"
        },
        "outputId": "283b2c59-ba72-4400-fc7c-5930a313e694"
      },
      "source": [
        "model = SVC()\n",
        "X_train, X_test, y_train, y_test = train_test_split(X_img_reshaped, y_img, test_size = 0.2)\n",
        "model.fit(X_train, y_train)\n",
        "train_score = model.score(X_train, y_train)\n",
        "test_score = model.score(X_test, y_test)\n",
        "print(train_score)\n",
        "print(test_score)\n",
        "#YOUR CODE HERE"
      ],
      "execution_count": null,
      "outputs": [
        {
          "output_type": "stream",
          "text": [
            "0.790625\n",
            "0.6825\n"
          ],
          "name": "stdout"
        }
      ]
    },
    {
      "cell_type": "markdown",
      "metadata": {
        "id": "iMWmeIwEC_Dt"
      },
      "source": [
        "Nice - we've developed a machine learning method for identifying parasitized blood cells to help diagnose malaria! Of course, you can always come back later to make your model more accurate.\n",
        "\n",
        "For now, let's save our model to a file so we can use it in an app."
      ]
    },
    {
      "cell_type": "code",
      "metadata": {
        "id": "7-Zo8TvoiEEx"
      },
      "source": [
        "dump(model, \"model.joblib\")"
      ],
      "execution_count": null,
      "outputs": []
    },
    {
      "cell_type": "markdown",
      "metadata": {
        "id": "krAg7NuZdLx7"
      },
      "source": [
        "# Part 2: Creating a Healthcare App User Interface\n",
        "\n",
        "Now, let's make a user interface for our malaria diagnosis app.\n",
        "\n",
        "**Discuss: What elements should our web app include to be effective and easy to use?**\n",
        "\n",
        "We'll build our app using [Streamlit](https://www.streamlit.io/), a new Python package designed for quickly building machine-learning web apps. This means we'll be able to write all our code right here in Colab - much trickier to do with classic web design tools like HTML and JavaScript!\n",
        "\n",
        "We'll use a nifty Colab command, `%%writefile`, to write code directly to a Python file: `app.py`. To start with, let's create a super-basic web app with just a title."
      ]
    },
    {
      "cell_type": "code",
      "metadata": {
        "id": "Lr-Lawiw69sV"
      },
      "source": [
        "%%writefile app.py\n",
        "import streamlit as st\n",
        "from joblib import dump, load\n",
        "\n",
        "#model = load(\"model.joblib\" ) # loading up our saved model\n",
        "\n",
        "st.title('This is my title') #Change the title here!\n",
        "\n",
        "#Later: add more Streamlit code here"
      ],
      "execution_count": null,
      "outputs": []
    },
    {
      "cell_type": "markdown",
      "metadata": {
        "id": "_V9g_onD7jG_"
      },
      "source": [
        "Now, in three lines of code we can host our app on the Web! Run this block, then click the URL to access your webpage: it'll be accessible until you stop the code block. You can also check it out on your phone."
      ]
    },
    {
      "cell_type": "code",
      "metadata": {
        "id": "I6H5NOccOHdw"
      },
      "source": [
        "#Publish Web App (Run this again whenever you make changes)\n",
        "public_url = ngrok.connect(port='80')\n",
        "print (public_url)\n",
        "!streamlit run --server.port 80 app.py >/dev/null"
      ],
      "execution_count": null,
      "outputs": []
    },
    {
      "cell_type": "code",
      "metadata": {
        "id": "Vf7A8LHuLrzw",
        "cellView": "form"
      },
      "source": [
        "#@title If you get an error above, run this to reinitialize Streamlit, then try again!\n",
        "%%writefile ~/.streamlit/config.toml\n",
        "[server]\n",
        "port = 80"
      ],
      "execution_count": null,
      "outputs": []
    },
    {
      "cell_type": "markdown",
      "metadata": {
        "id": "1o0m81aJmjwg"
      },
      "source": [
        "Now, you can customize your Streamlit user interface (UI)! \n",
        "\n",
        "Choose the elements you want from the toolbox below, then copy-paste them into the `%%writefile app.py` code above in whatever order you'd like to define your UI. Check out this [cheat sheet](https://share.streamlit.io/daniellewisdl/streamlit-cheat-sheet/app.py) for more.\n"
      ]
    },
    {
      "cell_type": "code",
      "metadata": {
        "id": "REwplcbZlCVU"
      },
      "source": [
        "#Your Streamlit Toolbox!\n",
        "\n",
        "\"\"\"\n",
        "#Write text\n",
        "st.write(\"text\")\n",
        "\n",
        "#Title\n",
        "st.title('title')\n",
        "\n",
        "#Header\n",
        "st.header('header')\n",
        "\n",
        "#Slider\n",
        "value = st.slider('variable')\n",
        "\n",
        "#Table\n",
        "st.table(dataframe) #use a Pandas DataFrame\n",
        "\n",
        "#Bar Chart (Example)\n",
        "chart_data = pd.DataFrame([[45, 0, 0], [0, 32, 0], [0, 0, 35]],\n",
        "     columns=[\"apples\", \"oranges\", \"pears\"])\n",
        "st.bar_chart(chart_data)\n",
        "\n",
        "#Matplotlib Figure\n",
        "st.pyplot(fig) #use a Matplotlib figure\n",
        "\n",
        "#Image\n",
        "st.image(image, caption='Image Caption')\n",
        "\n",
        "#Button\n",
        "pressed = st.button('Button Name')\n",
        "\n",
        "#Checkbox\n",
        "checked = st.checkbox('Checkbox Name')\n",
        "\n",
        "#File Input\n",
        "uploaded_file = st.file_uploader(\"Upload File\")\n",
        "\n",
        "if uploaded_file is not None:    \n",
        "    pass #Do something here!\n",
        "\n",
        "\"\"\""
      ],
      "execution_count": null,
      "outputs": []
    },
    {
      "cell_type": "markdown",
      "metadata": {
        "id": "UIUjtHy4pig8"
      },
      "source": [
        "Now take these Streamlit elements and design your interface for malaria diagnosis! Be sure to replace the placeholder values and variable names with your specifics in mind. \n",
        "\n",
        "Whenever you want to view your updated website, rewrite your code into `app.py` and then host your web app again."
      ]
    },
    {
      "cell_type": "markdown",
      "metadata": {
        "id": "1jIe4K0gB0q0"
      },
      "source": [
        "#Part 3: Connecting Our App and Model\n",
        "Now we've got a beautiful web app, but it can't do anything yet! Let's connect our app to our model, so that the user can upload an image of a blood slide, the model will analyze the image, and finally the app will display the diagnosis result with some text. \n"
      ]
    },
    {
      "cell_type": "markdown",
      "metadata": {
        "id": "2M9klrD3t5cr"
      },
      "source": [
        "We'll start off by writing our image processing code here in Colab. Although it won't execute here, it'll be easier to visualize the steps. Later, we'll add it to our Streamlit code.\n",
        "\n",
        "First things first: we need to check if an image has been uploaded! **What code from your Streamlit Toolbox will make sure that we only start analyzing an image once it's uploaded?**\n",
        "\n"
      ]
    },
    {
      "cell_type": "code",
      "metadata": {
        "id": "yDG9HGqtqcaR"
      },
      "source": [
        "#Your Code Here"
      ],
      "execution_count": null,
      "outputs": []
    },
    {
      "cell_type": "markdown",
      "metadata": {
        "id": "tZefh1W8qa3D"
      },
      "source": [
        "Once we get an image, we'll convert it to a Numpy array like this:"
      ]
    },
    {
      "cell_type": "code",
      "metadata": {
        "id": "R5OByyvawCl4"
      },
      "source": [
        "#Remember, this won't run here!\n",
        "file_bytes = np.asarray(bytearray(uploaded_file.read()), dtype=np.uint8)\n",
        "image = cv2.imdecode(file_bytes, 1)"
      ],
      "execution_count": null,
      "outputs": []
    },
    {
      "cell_type": "markdown",
      "metadata": {
        "id": "HAJsAEtjwXzQ"
      },
      "source": [
        "Next, we'll convert `image` into a 50 x 50 grayscale image: we'll convert it to grayscale and then to the new dimensions. Please complete the code:\n"
      ]
    },
    {
      "cell_type": "code",
      "metadata": {
        "id": "9umNH5sVwyOY"
      },
      "source": [
        "small = cv2.resize() #YOUR CODE HERE: specify image, dimensions\n",
        "gray = cv2.cvtColor(small, cv2.COLOR_BGR2GRAY)"
      ],
      "execution_count": null,
      "outputs": []
    },
    {
      "cell_type": "markdown",
      "metadata": {
        "id": "lWOvbWyzwy5f"
      },
      "source": [
        "Next up, you'll use the `np.reshape()` function to flatten our image into a 1x2500 array and `model.predict()` to classify it."
      ]
    },
    {
      "cell_type": "code",
      "metadata": {
        "id": "49jpffXKpsqw"
      },
      "source": [
        "#Your Code Here"
      ],
      "execution_count": null,
      "outputs": []
    },
    {
      "cell_type": "markdown",
      "metadata": {
        "id": "zEqtKFPtxICo"
      },
      "source": [
        "Based on the predicted output, you'll write a message to the user to tell them their results! You can write text with  `st.write()`."
      ]
    },
    {
      "cell_type": "code",
      "metadata": {
        "id": "AvDCHUA7qK2v"
      },
      "source": [
        "#Your Code Here"
      ],
      "execution_count": null,
      "outputs": []
    },
    {
      "cell_type": "markdown",
      "metadata": {
        "id": "sfVNR-NNx87A"
      },
      "source": [
        "Excellent - now we're ready! Please paste the code above into your Streamlit code in the right order, and check out your finished website!\n",
        "\n",
        "If you want images to test it out on, you can download 5 non-malaria and 5 malaria images from the Files tab on the left-hand side. "
      ]
    },
    {
      "cell_type": "markdown",
      "metadata": {
        "id": "MACrLXl-914z"
      },
      "source": [
        "#Discussion: Ethics\n",
        "Now you know how to quickly deploy an ML model, and you can share any models you build using Streamlit web apps! You can also deploy your apps permanently using solutions like Heroku.\n",
        "\n",
        "But especially in healthcare, it's not always clear that deploying a machine learning app is ethically the right thing to do. **Discuss:**\n",
        "\n",
        "\n",
        "*   How could your app help people? How could you get people to use your app?\n",
        "*   What could go wrong if your app makes mistakes, or if people use your app instead of consulting an expert?\n",
        "*   How confident must you be in your app's accuracy before you deploy it? How can you make sure your app works well for different people in different circumstances? \n",
        "*   What information should you include on your page so users can make good decisions about using your app?\n",
        "\n"
      ]
    }
  ]
}